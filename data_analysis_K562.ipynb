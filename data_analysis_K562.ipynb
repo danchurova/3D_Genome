{
 "cells": [
  {
   "cell_type": "markdown",
   "metadata": {},
   "source": [
    "data analysis"
   ]
  },
  {
   "cell_type": "code",
   "execution_count": 2,
   "metadata": {},
   "outputs": [],
   "source": [
    "# required packages\n",
    "import pandas as pd\n",
    "import matplotlib.pyplot as plt\n",
    "import numpy as np\n",
    "import plotly.plotly as py\n",
    "import seaborn as sns"
   ]
  },
  {
   "cell_type": "code",
   "execution_count": 20,
   "metadata": {},
   "outputs": [],
   "source": [
    "# read whole-genome frequency stats for raw normalized data\n",
    "raw_freq_stats = pd.read_table('./data/K562_interchromosomal/frequency_stats_100kb_raw', header=None, names = ['value', 'frequency'])\n",
    "KRnorm_freq_stats = pd.read_table('./data/K562_interchromosomal/frequency_stats_100kb_KRnorm', header=None, names = ['value', 'frequency'])\n",
    "VCnorm_freq_stats = pd.read_table('./data/K562_interchromosomal/frequency_stats_100kb_VCnorm', header=None, names = ['value', 'frequency'])\n",
    "SQRTVCnorm_freq_stats = pd.read_table('./data/K562_interchromosomal/frequency_stats_100kb_SQRTVCnorm', header=None, names = ['value', 'frequency'])"
   ]
  },
  {
   "cell_type": "code",
   "execution_count": 21,
   "metadata": {},
   "outputs": [
    {
     "data": {
      "text/plain": [
       "(               value  frequency\n",
       " 1       1.690644e+07          1\n",
       " 2       1.344256e+07          1\n",
       " 3       1.203758e+07          1\n",
       " 4       1.128324e+07          1\n",
       " 5       1.021827e+07          1\n",
       " 6       9.154122e+06          1\n",
       " 7       8.753820e+06          1\n",
       " 8       8.007819e+06          1\n",
       " 9       5.638260e+06          1\n",
       " 10      5.487848e+06          1\n",
       " 11      4.910715e+06          1\n",
       " 12      4.728032e+06          1\n",
       " 13      4.484931e+06          1\n",
       " 14      3.717660e+06          1\n",
       " 15      3.629253e+06          1\n",
       " 16      3.408031e+06          1\n",
       " 17      3.222683e+06          1\n",
       " 18      3.198706e+06          1\n",
       " 19      3.059280e+06          1\n",
       " 20      3.032004e+06          1\n",
       " 21      2.573764e+06          1\n",
       " 22      2.465737e+06          1\n",
       " 23      2.388501e+06          1\n",
       " 24      2.353803e+06          1\n",
       " 25      2.223076e+06          1\n",
       " 26      2.198121e+06          1\n",
       " 27      2.136561e+06          1\n",
       " 28      2.104798e+06          1\n",
       " 29      2.057275e+06          1\n",
       " 30      1.948965e+06          1\n",
       " ...              ...        ...\n",
       " 342398  3.000000e-02     102843\n",
       " 342399  2.900000e-02     103735\n",
       " 342400  2.800000e-02     104110\n",
       " 342401  2.700000e-02     104414\n",
       " 342402  2.600000e-02     105383\n",
       " 342403  2.500000e-02     104639\n",
       " 342404  2.400000e-02     104589\n",
       " 342405  2.300000e-02     102294\n",
       " 342406  2.200000e-02     100535\n",
       " 342407  2.100000e-02      96387\n",
       " 342408  2.000000e-02      91078\n",
       " 342409  1.900000e-02      84061\n",
       " 342410  1.800000e-02      76548\n",
       " 342411  1.700000e-02      66288\n",
       " 342412  1.600000e-02      55942\n",
       " 342413  1.500000e-02      45083\n",
       " 342414  1.400000e-02      35129\n",
       " 342415  1.300000e-02      26194\n",
       " 342416  1.200000e-02      19836\n",
       " 342417  1.100000e-02      15007\n",
       " 342418  1.000000e-02      12043\n",
       " 342419  9.000000e-03      10466\n",
       " 342420  8.000000e-03       8489\n",
       " 342421  7.000000e-03       6274\n",
       " 342422  6.000000e-03       3881\n",
       " 342423  5.000000e-03       2134\n",
       " 342424  4.000000e-03       1114\n",
       " 342425  3.000000e-03        415\n",
       " 342426  2.000000e-03         57\n",
       " 342427  1.000000e-03          3\n",
       " \n",
       " [342427 rows x 2 columns],            value  frequency\n",
       " 1      90624.574          1\n",
       " 2      15958.902          1\n",
       " 3      13930.955          1\n",
       " 4      13215.316          1\n",
       " 5      10728.517          1\n",
       " 6      10130.387          1\n",
       " 7       7681.919          1\n",
       " 8       7540.485          1\n",
       " 9       6704.753          1\n",
       " 10      6453.671          1\n",
       " 11      6315.141          1\n",
       " 12      6108.305          1\n",
       " 13      6037.546          1\n",
       " 14      5949.150          1\n",
       " 15      5880.321          1\n",
       " 16      5732.006          1\n",
       " 17      5599.498          1\n",
       " 18      5585.953          1\n",
       " 19      5522.733          1\n",
       " 20      5513.753          1\n",
       " 21      5206.934          1\n",
       " 22      5052.122          1\n",
       " 23      4915.896          1\n",
       " 24      4674.188          1\n",
       " 25      4540.775          1\n",
       " 26      4456.368          1\n",
       " 27      4453.948          1\n",
       " 28      4432.780          1\n",
       " 29      4418.995          1\n",
       " 30      4320.890          1\n",
       " ...          ...        ...\n",
       " 93764      0.252          2\n",
       " 93765      0.251          2\n",
       " 93766      0.249          1\n",
       " 93767      0.248          1\n",
       " 93768      0.247          3\n",
       " 93769      0.246          1\n",
       " 93770      0.244          2\n",
       " 93771      0.243          1\n",
       " 93772      0.242          1\n",
       " 93773      0.239          1\n",
       " 93774      0.238          1\n",
       " 93775      0.237          1\n",
       " 93776      0.236          2\n",
       " 93777      0.235          2\n",
       " 93778      0.233          1\n",
       " 93779      0.231          1\n",
       " 93780      0.230          1\n",
       " 93781      0.229          1\n",
       " 93782      0.225          2\n",
       " 93783      0.221          1\n",
       " 93784      0.214          1\n",
       " 93785      0.211          1\n",
       " 93786      0.210          1\n",
       " 93787      0.209          1\n",
       " 93788      0.206          2\n",
       " 93789      0.200          1\n",
       " 93790      0.197          1\n",
       " 93791      0.195          1\n",
       " 93792      0.179          2\n",
       " 93793      0.170          1\n",
       " \n",
       " [93793 rows x 2 columns])"
      ]
     },
     "execution_count": 21,
     "metadata": {},
     "output_type": "execute_result"
    }
   ],
   "source": [
    "VCnorm_freq_stats = VCnorm_freq_stats[1:]\n",
    "SQRTVCnorm_freq_stats = SQRTVCnorm_freq_stats[1:]\n",
    "\n",
    "VCnorm_freq_stats, SQRTVCnorm_freq_stats\n"
   ]
  },
  {
   "cell_type": "code",
   "execution_count": 89,
   "metadata": {},
   "outputs": [],
   "source": []
  },
  {
   "cell_type": "code",
   "execution_count": null,
   "metadata": {},
   "outputs": [],
   "source": []
  },
  {
   "cell_type": "code",
   "execution_count": 74,
   "metadata": {},
   "outputs": [],
   "source": []
  },
  {
   "cell_type": "code",
   "execution_count": 10,
   "metadata": {},
   "outputs": [],
   "source": []
  },
  {
   "cell_type": "code",
   "execution_count": 8,
   "metadata": {},
   "outputs": [],
   "source": []
  },
  {
   "cell_type": "code",
   "execution_count": 11,
   "metadata": {},
   "outputs": [],
   "source": []
  },
  {
   "cell_type": "code",
   "execution_count": null,
   "metadata": {},
   "outputs": [],
   "source": []
  },
  {
   "cell_type": "code",
   "execution_count": 12,
   "metadata": {},
   "outputs": [],
   "source": []
  },
  {
   "cell_type": "code",
   "execution_count": null,
   "metadata": {},
   "outputs": [],
   "source": []
  },
  {
   "cell_type": "code",
   "execution_count": 13,
   "metadata": {},
   "outputs": [],
   "source": []
  },
  {
   "cell_type": "code",
   "execution_count": 14,
   "metadata": {},
   "outputs": [],
   "source": []
  },
  {
   "cell_type": "code",
   "execution_count": null,
   "metadata": {},
   "outputs": [],
   "source": []
  },
  {
   "cell_type": "code",
   "execution_count": null,
   "metadata": {},
   "outputs": [],
   "source": []
  },
  {
   "cell_type": "code",
   "execution_count": 23,
   "metadata": {},
   "outputs": [],
   "source": []
  },
  {
   "cell_type": "code",
   "execution_count": 25,
   "metadata": {},
   "outputs": [],
   "source": []
  },
  {
   "cell_type": "code",
   "execution_count": 50,
   "metadata": {},
   "outputs": [],
   "source": []
  },
  {
   "cell_type": "code",
   "execution_count": 51,
   "metadata": {},
   "outputs": [],
   "source": []
  },
  {
   "cell_type": "code",
   "execution_count": 55,
   "metadata": {},
   "outputs": [],
   "source": []
  },
  {
   "cell_type": "code",
   "execution_count": null,
   "metadata": {},
   "outputs": [],
   "source": []
  },
  {
   "cell_type": "code",
   "execution_count": null,
   "metadata": {},
   "outputs": [],
   "source": []
  },
  {
   "cell_type": "code",
   "execution_count": null,
   "metadata": {},
   "outputs": [],
   "source": []
  },
  {
   "cell_type": "code",
   "execution_count": null,
   "metadata": {},
   "outputs": [],
   "source": []
  },
  {
   "cell_type": "code",
   "execution_count": null,
   "metadata": {},
   "outputs": [],
   "source": []
  },
  {
   "cell_type": "code",
   "execution_count": null,
   "metadata": {},
   "outputs": [],
   "source": []
  },
  {
   "cell_type": "code",
   "execution_count": null,
   "metadata": {},
   "outputs": [],
   "source": []
  },
  {
   "cell_type": "code",
   "execution_count": null,
   "metadata": {},
   "outputs": [],
   "source": []
  },
  {
   "cell_type": "code",
   "execution_count": null,
   "metadata": {},
   "outputs": [],
   "source": []
  },
  {
   "cell_type": "code",
   "execution_count": null,
   "metadata": {},
   "outputs": [],
   "source": []
  },
  {
   "cell_type": "code",
   "execution_count": 31,
   "metadata": {},
   "outputs": [],
   "source": []
  },
  {
   "cell_type": "code",
   "execution_count": null,
   "metadata": {},
   "outputs": [],
   "source": []
  },
  {
   "cell_type": "code",
   "execution_count": null,
   "metadata": {},
   "outputs": [],
   "source": []
  }
 ],
 "metadata": {
  "kernelspec": {
   "display_name": "Python 3",
   "language": "python",
   "name": "python3"
  },
  "language_info": {
   "codemirror_mode": {
    "name": "ipython",
    "version": 3
   },
   "file_extension": ".py",
   "mimetype": "text/x-python",
   "name": "python",
   "nbconvert_exporter": "python",
   "pygments_lexer": "ipython3",
   "version": "3.6.5"
  }
 },
 "nbformat": 4,
 "nbformat_minor": 2
}
