{
 "cells": [
  {
   "cell_type": "markdown",
   "metadata": {},
   "source": [
    "data analysis"
   ]
  },
  {
   "cell_type": "code",
   "execution_count": 53,
   "metadata": {},
   "outputs": [],
   "source": [
    "# required packages\n",
    "import pandas as pd\n",
    "import matplotlib.pyplot as plt\n",
    "import numpy as np\n",
    "import plotly.plotly as py\n",
    "import seaborn as sns"
   ]
  },
  {
   "cell_type": "code",
   "execution_count": 111,
   "metadata": {},
   "outputs": [],
   "source": [
    "# read whole-genome frequency stats for raw normalized data\n",
    "raw_freq_stats = pd.read_table('./data/K562_interchromosomal/frequency_stats_100kb_raw', header=None, names = ['value', 'frequency'])\n",
    "KRnorm_freq_stats = pd.read_table('./data/K562_interchromosomal/frequency_stats_100kb_KRnorm', header=None, names = ['value', 'frequency'])\n",
    "VCnorm_freq_stats = pd.read_table('./data/K562_interchromosomal/frequency_stats_100kb_VCnorm', header=None, names = ['value', 'frequency'])\n",
    "SQRTVCnorm_freq_stats = pd.read_table('./data/K562_interchromosomal/frequency_stats_100kb_SQRTVCnorm', header=None, names = ['value', 'frequency'])"
   ]
  },
  {
   "cell_type": "code",
   "execution_count": 55,
   "metadata": {},
   "outputs": [
    {
     "data": {
      "text/plain": [
       "97719803"
      ]
     },
     "execution_count": 55,
     "metadata": {},
     "output_type": "execute_result"
    }
   ],
   "source": [
    "VCnorm_freq_stats = VCnorm_freq_stats[1:]\n",
    "SQRTVCnorm_freq_stats = SQRTVCnorm_freq_stats[1:]\n",
    "\n",
    "KRnorm_freq_stats['frequency'].sum()\n"
   ]
  },
  {
   "cell_type": "code",
   "execution_count": 104,
   "metadata": {},
   "outputs": [
    {
     "data": {
      "text/plain": [
       "97719803"
      ]
     },
     "execution_count": 104,
     "metadata": {},
     "output_type": "execute_result"
    }
   ],
   "source": [
    "raw_freq_stats['frequency'].sum()"
   ]
  },
  {
   "cell_type": "code",
   "execution_count": 136,
   "metadata": {},
   "outputs": [
    {
     "name": "stderr",
     "output_type": "stream",
     "text": [
      "/usr/local/Cellar/ipython/6.4.0/libexec/lib/python3.6/site-packages/IPython/core/interactiveshell.py:2785: DtypeWarning:\n",
      "\n",
      "Columns (3) have mixed types. Specify dtype option on import or set low_memory=False.\n",
      "\n"
     ]
    }
   ],
   "source": [
    "#reading top interactions files\n",
    "raw_top_interactions = pd.read_csv('./data/K562_interchromosomal/top_interactions/raw_top_interactions_100kb.csv')\n",
    "KRnorm_top_interactions = pd.read_csv('./data/K562_interchromosomal/top_interactions/KRnorm_top_interactions_100kb.csv')\n",
    "VCnorm_top_interactions = pd.read_csv('./data/K562_interchromosomal/top_interactions/VCnorm_top_interactions_100kb.csv')\n",
    "SQRTVCnorm_top_interactions = pd.read_csv('./data/K562_interchromosomal/top_interactions/SQRTVCnorm_top_interactions_100kb.csv')"
   ]
  },
  {
   "cell_type": "code",
   "execution_count": 138,
   "metadata": {},
   "outputs": [
    {
     "data": {
      "text/plain": [
       "(642326, 976776)"
      ]
     },
     "execution_count": 138,
     "metadata": {},
     "output_type": "execute_result"
    }
   ],
   "source": [
    "len(raw_top_interactions), len(KRnorm_top_interactions)"
   ]
  },
  {
   "cell_type": "code",
   "execution_count": 139,
   "metadata": {},
   "outputs": [],
   "source": [
    "#getting columns for comparison\n",
    "raw_top_for_jaccard = raw_top_interactions.drop(['Unnamed: 0','value'], axis=1)\n",
    "KRnorm_top_for_jaccard = KRnorm_top_interactions.drop(['Unnamed: 0','value'], axis=1)\n"
   ]
  },
  {
   "cell_type": "code",
   "execution_count": 140,
   "metadata": {},
   "outputs": [
    {
     "data": {
      "text/plain": [
       "(110343, 1508759)"
      ]
     },
     "execution_count": 140,
     "metadata": {},
     "output_type": "execute_result"
    }
   ],
   "source": [
    "kr_raw_intersect = pd.merge(raw_top_for_jaccard, KRnorm_top_for_jaccard, how='inner',on=['chrom1', 'coord1', 'chrom2', 'coord2'])\n",
    "kr_raw_join = pd.concat([raw_top_for_jaccard,KRnorm_top_for_jaccard]).drop_duplicates().reset_index(drop=True)\n",
    "len(kr_raw_intersect), len(kr_raw_join)"
   ]
  },
  {
   "cell_type": "code",
   "execution_count": 141,
   "metadata": {},
   "outputs": [
    {
     "data": {
      "text/plain": [
       "0.07313494070292208"
      ]
     },
     "execution_count": 141,
     "metadata": {},
     "output_type": "execute_result"
    }
   ],
   "source": [
    "kr_raw_jaccard_coef = len(kr_raw_intersect)/len(kr_raw_join)\n",
    "kr_raw_jaccard_coef"
   ]
  },
  {
   "cell_type": "code",
   "execution_count": 14,
   "metadata": {},
   "outputs": [],
   "source": []
  },
  {
   "cell_type": "code",
   "execution_count": null,
   "metadata": {},
   "outputs": [],
   "source": []
  },
  {
   "cell_type": "code",
   "execution_count": null,
   "metadata": {},
   "outputs": [],
   "source": []
  },
  {
   "cell_type": "code",
   "execution_count": 23,
   "metadata": {},
   "outputs": [],
   "source": []
  },
  {
   "cell_type": "code",
   "execution_count": 25,
   "metadata": {},
   "outputs": [],
   "source": []
  },
  {
   "cell_type": "code",
   "execution_count": 50,
   "metadata": {},
   "outputs": [],
   "source": []
  },
  {
   "cell_type": "code",
   "execution_count": 51,
   "metadata": {},
   "outputs": [],
   "source": []
  },
  {
   "cell_type": "code",
   "execution_count": 55,
   "metadata": {},
   "outputs": [],
   "source": []
  },
  {
   "cell_type": "code",
   "execution_count": null,
   "metadata": {},
   "outputs": [],
   "source": []
  },
  {
   "cell_type": "code",
   "execution_count": null,
   "metadata": {},
   "outputs": [],
   "source": []
  },
  {
   "cell_type": "code",
   "execution_count": null,
   "metadata": {},
   "outputs": [],
   "source": []
  },
  {
   "cell_type": "code",
   "execution_count": null,
   "metadata": {},
   "outputs": [],
   "source": []
  },
  {
   "cell_type": "code",
   "execution_count": null,
   "metadata": {},
   "outputs": [],
   "source": []
  },
  {
   "cell_type": "code",
   "execution_count": null,
   "metadata": {},
   "outputs": [],
   "source": []
  },
  {
   "cell_type": "code",
   "execution_count": null,
   "metadata": {},
   "outputs": [],
   "source": []
  },
  {
   "cell_type": "code",
   "execution_count": null,
   "metadata": {},
   "outputs": [],
   "source": []
  },
  {
   "cell_type": "code",
   "execution_count": null,
   "metadata": {},
   "outputs": [],
   "source": []
  },
  {
   "cell_type": "code",
   "execution_count": null,
   "metadata": {},
   "outputs": [],
   "source": []
  },
  {
   "cell_type": "code",
   "execution_count": 31,
   "metadata": {},
   "outputs": [],
   "source": []
  },
  {
   "cell_type": "code",
   "execution_count": null,
   "metadata": {},
   "outputs": [],
   "source": []
  },
  {
   "cell_type": "code",
   "execution_count": null,
   "metadata": {},
   "outputs": [],
   "source": []
  }
 ],
 "metadata": {
  "kernelspec": {
   "display_name": "Python 3",
   "language": "python",
   "name": "python3"
  },
  "language_info": {
   "codemirror_mode": {
    "name": "ipython",
    "version": 3
   },
   "file_extension": ".py",
   "mimetype": "text/x-python",
   "name": "python",
   "nbconvert_exporter": "python",
   "pygments_lexer": "ipython3",
   "version": "3.6.5"
  }
 },
 "nbformat": 4,
 "nbformat_minor": 2
}
